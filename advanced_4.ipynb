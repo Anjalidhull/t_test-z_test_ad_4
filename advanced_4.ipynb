{
 "cells": [
  {
   "cell_type": "code",
   "execution_count": null,
   "id": "0a3679b0-0271-4ef7-a641-d2dd37eaa8c2",
   "metadata": {},
   "outputs": [],
   "source": [
    "Q1: What is the difference between a t-test and a z-test? Provide an example scenario where you would\n",
    "use each type of test.\n",
    "Q2: Differentiate between one-tailed and two-tailed tests.\n",
    "Q3: Explain the concept of Type 1 and Type 2 errors in hypothesis testing. Provide an example scenario for\n",
    "each type of error.\n",
    "Q4: Explain Bayes's theorem with an example.\n",
    "Q5: What is a confidence interval? How to calculate the confidence interval, explain with an example.\n",
    "Q6. Use Bayes' Theorem to calculate the probability of an event occurring given prior knowledge of the\n",
    "event's probability and new evidence. Provide a sample problem and solution.\n",
    "Q7. Calculate the 95% confidence interval for a sample of data with a mean of 50 and a standard deviation\n",
    "of 5. Interpret the results.\n",
    "Q8. What is the margin of error in a confidence interval? How does sample size affect the margin of error?\n",
    "Provide an example of a scenario where a larger sample size would result in a smaller margin of error.\n",
    "Q9. Calculate the z-score for a data point with a value of 75, a population mean of 70, and a population\n",
    "standard deviation of 5. Interpret the results.\n",
    "Q10. In a study of the effectiveness of a new weight loss drug, a sample of 50 participants lost an average\n",
    "of 6 pounds with a standard deviation of 2.5 pounds. Conduct a hypothesis test to determine if the drug is\n",
    "significantly effective at a 95% confidence level using a t-test.\n",
    "Q11. In a survey of 500 people, 65% reported being satisfied with their current job. Calculate the 95%\n",
    "confidence interval for the true proportion of people who are satisfied with their job.\n",
    "\n",
    "Q12. A researcher is testing the effectiveness of two different teaching methods on student performance.\n",
    "Sample A has a mean score of 85 with a standard deviation of 6, while sample B has a mean score of 82\n",
    "with a standard deviation of 5. Conduct a hypothesis test to determine if the two teaching methods have a\n",
    "significant difference in student performance using a t-test with a significance level of 0.01.\n",
    "Q13. A population has a mean of 60 and a standard deviation of 8. A sample of 50 observations has a mean\n",
    "of 65. Calculate the 90% confidence interval for the true population mean.\n",
    "Q14. In a study of the effects of caffeine on reaction time, a sample of 30 participants had an average\n",
    "reaction time of 0.25 seconds with a standard deviation of 0.05 seconds. Conduct a hypothesis test to\n",
    "determine if the caffeine has a significant effect on reaction time at a 90% confidence level using a t-test."
   ]
  },
  {
   "cell_type": "code",
   "execution_count": 1,
   "id": "20044938-c26e-4f2f-a961-89a3bde8b0d1",
   "metadata": {},
   "outputs": [],
   "source": [
    "import math"
   ]
  },
  {
   "cell_type": "code",
   "execution_count": null,
   "id": "790401ce-4d25-4548-bd2d-097859ec7227",
   "metadata": {},
   "outputs": [],
   "source": [
    "Q1: What is the difference between a t-test and a z-test? Provide an example scenario where you would\n",
    "use each type of test."
   ]
  },
  {
   "cell_type": "code",
   "execution_count": null,
   "id": "5bd4ea5e-528b-4eae-a380-c0ef559008d6",
   "metadata": {},
   "outputs": [],
   "source": [
    "Use the t-test when the sample size is small or the population standard deviation is unknown, and use the z-test when \n",
    "the sample size is large, and the population standard deviation is known .\n",
    "example:(z-test): Suppose you want to compare the average heights of male individuals in a city to a known population average height\n",
    "(mean and standard deviation) of all males in the country. If you have a large enough sample size from the city (e.g., n ≥ 30)\n",
    "and the heights are normally distributed, you can use a z-test to determine if the average height in the city is significantly\n",
    "different from the national average.\n",
    "example:(t-test):Let's say you want to compare the average exam scores of two groups of students who received different teaching methods. Group A\n",
    "consists of 20 students, and Group B has 25 students. The scores are normally distributed, but you do not know the standard deviation \n",
    "of the scores in the population. In this case, you would use a two-sample t-test to determine if there is a significant difference in\n",
    "the mean exam scores between the two groups."
   ]
  },
  {
   "cell_type": "code",
   "execution_count": null,
   "id": "db10da79-7a9d-4516-8443-dd671d99cc56",
   "metadata": {},
   "outputs": [],
   "source": [
    "Q2: Differentiate between one-tailed and two-tailed tests.\n"
   ]
  },
  {
   "cell_type": "code",
   "execution_count": null,
   "id": "cdd3426b-61e5-4590-afcd-e04946a30f56",
   "metadata": {},
   "outputs": [],
   "source": [
    "One-tailed test:\n",
    "In a one-tailed test (also known as a directional test), the null hypothesis specifies a specific direction for the expected outcome.\n",
    "The alternative hypothesis focuses on one side of the distribution, either greater than or less than a certain value."
   ]
  },
  {
   "cell_type": "code",
   "execution_count": null,
   "id": "37001446-e7be-49be-8bbd-d293effd1884",
   "metadata": {},
   "outputs": [],
   "source": [
    "Two-tailed test:\n",
    "In a two-tailed test (also known as a non-directional test), the null hypothesis does not specify a direction \n",
    "for the expected outcome. The alternative hypothesis encompasses both sides of the distribution, and the test \n",
    "is designed to detect any significant difference from the null hypothesis, regardless of direction"
   ]
  },
  {
   "cell_type": "code",
   "execution_count": null,
   "id": "c707ad49-911b-48bb-b5e5-ef3b93f99a83",
   "metadata": {},
   "outputs": [],
   "source": [
    "Q3: Explain the concept of Type 1 and Type 2 errors in hypothesis testing. Provide an example scenario for\n",
    "each type of error."
   ]
  },
  {
   "cell_type": "code",
   "execution_count": null,
   "id": "e9a3daed-d6d6-4980-b912-627aaae87fda",
   "metadata": {},
   "outputs": [],
   "source": [
    "Type 1 error:\n",
    "       We reject the null hypothesis when it is acctually true . \n",
    "        \n",
    "        \n",
    "        \n",
    "Let's say a patient named John does not have the disease, but the medical test erroneously shows a positive result.\n",
    "The test indicates that John has the disease, leading to unnecessary anxiety and potentially subjecting him to further \n",
    "unnecessary medical procedures or treatments..        \n",
    "Type 2 error :\n",
    "    We accept the alternative hypothesis when it is acctualy False.\n",
    "    \n",
    "Now, consider another patient named Sarah who does have the disease. However, the medical test gives a negative result, \n",
    "indicating that she is disease-free. Due to the false-negative result, Sarah may not receive the necessary treatment or\n",
    "medical attention, allowing the disease to progress undetected and potentially causing serious health issues.    "
   ]
  },
  {
   "cell_type": "code",
   "execution_count": null,
   "id": "6af95fe6-50b8-450c-8750-01b062b7baef",
   "metadata": {},
   "outputs": [],
   "source": [
    "Q4: Explain Bayes's theorem with an example.\n"
   ]
  },
  {
   "cell_type": "code",
   "execution_count": null,
   "id": "58be7cf8-4746-4fda-bf14-c2c5a4a10857",
   "metadata": {},
   "outputs": [],
   "source": [
    "The theorem expresses the relationship between conditional probabilities and is widely used in various fields,\n",
    "including statistics, machine learning, and artificial intelligence.\n",
    "\n",
    "  P(A/B)=(P(A)*P(B/A))/P(B)\n",
    "    \n",
    "P(A∣B) is the conditional probability of event A occurring given that event B has occurred.\n",
    "\n",
    "P(B∣A) is the conditional probability of event B occurring given that event A has occurred.\n",
    "\n",
    "P(A) is the prior probability of event A occurring before observing any evidence.\n",
    "P(B) is the prior probability of event B occurring before observing any evidence.\n",
    "\n",
    "EXAMPLE:\n",
    "    Imagine there is a medical test for a rare disease, and you want to determine the probability that a patient has the disease based on the test result. Let's define the events:\n",
    "\n",
    "A: The patient has the disease.\n",
    "B: The test result is positive (indicating the presence of the disease).\n",
    "\n",
    "P(A): The prevalence of the disease in the population, which is 0.1 (10% of the population has the disease).\n",
    "P(¬A:The probability of not having the disease, which is 0.9 (90% of the population is disease-free).\n",
    "\n",
    "P(B∣A): The sensitivity of the test, which is 0.95 (the probability of a positive test result given that the patient has the disease).\n",
    "P(¬B∣¬A): The specificity of the test, which is 0.90 (the probability of a negative test result given that the patient does not have the disease).\n",
    " \n",
    "  \n",
    "  P(B)=P(B∣A)×P(A)+P(B∣¬A)×P(¬A)\n",
    "  P(B)=0.185\n",
    "\n",
    "  Using Bayes's theorem, we can calculate the probability of a patient having the disease given a positive test result:\n",
    "\n",
    "\n",
    "P(A∣B)=(P(B∣A)×P(A))/ P(B)\n",
    "     =( 0.95*0.1)/0.185\n",
    "     = 0.5135\n",
    "  \n",
    "  So, the probability that a patient actually has the disease given a positive test result is approximately 0.5135 or 51.35%.\n",
    "  \n",
    "  \n",
    "  \n",
    "  \n"
   ]
  },
  {
   "cell_type": "code",
   "execution_count": null,
   "id": "0961a8b8-bcdd-485a-bb9b-7ccf63ad378b",
   "metadata": {},
   "outputs": [],
   "source": [
    "Q5: What is a confidence interval? How to calculate the confidence interval, explain with an example.\n"
   ]
  },
  {
   "cell_type": "code",
   "execution_count": null,
   "id": "400d6d8c-a7f3-4a8d-9407-b5617c471dde",
   "metadata": {},
   "outputs": [],
   "source": [
    "The confidence interval provides us with a range of values rather than a single point estimate, which allows us to have a sense of the precision and reliability of our estimate. The confidence level represents the probability that the true population parameter falls within the calculated interval.\n",
    "\n",
    "Calculating a Confidence Interval (for Population Mean):\n",
    "\n",
    "To calculate a confidence interval for the population mean, we follow these steps:\n",
    "\n",
    "Gather data: Obtain a sample from the population of interest.\n",
    "\n",
    "Compute the sample mean (X̄) and sample standard deviation (s) from the data.\n",
    "\n",
    "Determine the desired confidence level (e.g., 95%, 90%, etc.) and find the corresponding critical value (Z) from the standard normal distribution or t-distribution. For larger sample sizes (typically n > 30), we use the standard normal distribution (Z-table). For smaller sample sizes, we use the t-distribution.\n",
    "\n",
    "Calculate the standard error (SE) of the sample mean using the formula: SE = s / √n, where n is the sample size.\n",
    "\n",
    "Calculate the confidence interval using the formula:\n",
    "Confidence Interval = X̄ ± (Z or t) * SE\n",
    "\n",
    "\n",
    "\n",
    "\n",
    "\n",
    "\n",
    "\n",
    "\n",
    "\n",
    "    \n",
    "    "
   ]
  },
  {
   "cell_type": "code",
   "execution_count": null,
   "id": "0ee84518-47ae-42ed-a770-78a9e78f3a16",
   "metadata": {},
   "outputs": [],
   "source": [
    "Q6.Use Bayes' Theorem to calculate the probability of an event occurring given prior knowledge of the\n",
    "event's probability and new evidence. Provide a sample problem and solution."
   ]
  },
  {
   "cell_type": "code",
   "execution_count": null,
   "id": "b927067c-5052-4d6a-a08f-6ef0c0fcd816",
   "metadata": {},
   "outputs": [],
   "source": [
    "P(A|B) = (P(B|A) * P(A)) / P(B)\n",
    "\n",
    "Sample Problem:\n",
    "Suppose we have a bag of colored marbles. The bag contains 80% red marbles and 20% blue marbles.\n",
    "We also know that the bag has two different production lines: Line A and Line B. Line A produces \n",
    "90% red marbles, while Line B produces 70% red marbles. A marble is randomly selected from the bag,\n",
    "and it is red. What is the probability that it came from Line A?\n",
    "\n",
    "A: The marble came from Line A\n",
    "B: The marble is red\n",
    "\n",
    "We are asked to find P(A|B), the probability that the marble came from Line A given that it is red.\n",
    "\n",
    "Using Bayes' Theorem:\n",
    "\n",
    "P(A|B) = (P(B|A) * P(A)) / P(B)\n",
    "\n",
    "P(B|A) = Probability of selecting a red marble given that it came from Line A = 0.90\n",
    "P(A) = Probability that the marble came from Line A = 0.5 (assuming equal probability of selecting from Line A or Line B)\n",
    "P(B) = Probability of selecting a red marble = P(B|A) * P(A) + P(B|~A) * P(~A) = 0.90 * 0.5 + 0.80 * 0.5 = 0.85\n",
    "\n",
    "Now, substitute the values into the formula:\n",
    "\n",
    "P(A|B) = (0.90 * 0.5) / 0.85\n",
    "P(A|B) = 0.45 / 0.85\n",
    "P(A|B) ≈ 0.5294\n",
    "\n",
    "The probability that the marble came from Line A given that it is red is approximately 0.5294 or 52.94%. \n",
    "This means that, based on the evidence of selecting a red marble, there is a 52.94% chance that the marble\n",
    "came from Line A and a 47.06% chance that it came from Line B.\n",
    "\n",
    "\n",
    "\n",
    "\n",
    "\n",
    "\n",
    "\n",
    "\n",
    "\n",
    "\n"
   ]
  },
  {
   "cell_type": "code",
   "execution_count": null,
   "id": "b3d5d327-c934-499a-ba9a-067718e81816",
   "metadata": {},
   "outputs": [],
   "source": [
    "Q7. Calculate the 95% confidence interval for a sample of data with a mean of 50 and a standard deviation\n",
    "of 5. Interpret the results."
   ]
  },
  {
   "cell_type": "code",
   "execution_count": 3,
   "id": "9c99707f-c026-407e-a90e-eb2c9b572c36",
   "metadata": {},
   "outputs": [
    {
     "name": "stdout",
     "output_type": "stream",
     "text": [
      "95% Confidence Interval for the proportion of smokers:\n",
      "Lower bound: 48.210805856282846\n",
      "Upper bound: 51.789194143717154\n"
     ]
    }
   ],
   "source": [
    "import scipy.stats as st\n",
    "import numpy as np\n",
    "\n",
    "#given data\n",
    "\n",
    "# Sample size (assuming a sufficiently large sample size)\n",
    "sample_size = 30\n",
    "\n",
    "#sample mean\n",
    "mean=50\n",
    "\n",
    "#sample standard deviation\n",
    "std=5\n",
    "\n",
    "#significance level\n",
    "alpha=0.05\n",
    "\n",
    "#Z score \n",
    "Z=st.norm.ppf(1-alpha/2)\n",
    "\n",
    "#Standard error\n",
    "SE=std/np.sqrt(sample_size)\n",
    "\n",
    "margin_of_error = Z*SE\n",
    "\n",
    "# Calculate the lower and upper bounds of the confidence interval\n",
    "lower_bound = mean - margin_of_error\n",
    "upper_bound = mean + margin_of_error\n",
    "\n",
    " # Print the results\n",
    "print(\"95% Confidence Interval for the proportion of smokers:\")\n",
    "print(\"Lower bound:\", lower_bound)\n",
    "print(\"Upper bound:\", upper_bound)"
   ]
  },
  {
   "cell_type": "code",
   "execution_count": null,
   "id": "04d76a07-846a-4921-b026-636d35d492b7",
   "metadata": {},
   "outputs": [],
   "source": [
    "Q8. What is the margin of error in a confidence interval? How does sample size affect the margin of error?\n",
    "Provide an example of a scenario where a larger sample size would result in a smaller margin of error."
   ]
  },
  {
   "cell_type": "code",
   "execution_count": 5,
   "id": "1c2d46e5-0aa5-44f4-abaa-d113df0f7e14",
   "metadata": {},
   "outputs": [],
   "source": [
    "A margin of error explain how many percent your result different your result from real population value.\n",
    "\n",
    "\n",
    "MOE = (Z*(s))/sqrt(n)  \n",
    "\n",
    "# MOE = Margin of error\n",
    "# s   = standard devaion\n",
    "# z   = The critical value corresponding to the desired level of confidence (e.g., 1.96 for a 95% confidence interval)\n",
    "# n   = sample size \n",
    "\n",
    "If sample size increase MOE decrese and if sample size decrese MOE increse .\n",
    "\n",
    "# Example\n",
    "\n",
    "Suppose we take a small sample of 200 voters, and the proportion of voters supporting the candidate in the sample is 60%.\n",
    "Let's assume that the standard deviation of the population proportion is 0.5 (σ = 0.5).\n",
    "\n",
    "Z = 1.96\n",
    "N=200\n",
    "S=0.5\n",
    "\n",
    "MOE=((1.96)*(0.5))/(math.sqrt(200))\n",
    "\n",
    "MOE=0.069\n",
    "\n",
    "Suppose we take a another example of large sample of 1000 voters, and the proportion of voters supporting the candidate in the sample is 60%.\n",
    "let's assume that the standard deviation of the population proportion is 0.5 (σ = 0.5).\n",
    "\n",
    "z=1.96\n",
    "n=1000\n",
    "s=0.5\n",
    "\n",
    "moe=((1.96)*(0.5))/(math.sqrt(1000))\n",
    "moe=0.030\n",
    "\n",
    "Hence if n increse moe decrese and if n decrese moe increse."
   ]
  },
  {
   "cell_type": "code",
   "execution_count": null,
   "id": "2a64ad28-8f77-4163-889b-070abe589e04",
   "metadata": {},
   "outputs": [],
   "source": [
    "Q9. Calculate the z-score for a data point with a value of 75, a population mean of 70, and a population\n",
    "standard deviation of 5. Interpret the results."
   ]
  },
  {
   "cell_type": "code",
   "execution_count": 6,
   "id": "7a0b0db1-d1b5-42c0-930b-efd40e524ef7",
   "metadata": {},
   "outputs": [
    {
     "name": "stdout",
     "output_type": "stream",
     "text": [
      "Z score is : 1.0\n"
     ]
    }
   ],
   "source": [
    "# Z=(X-U)/S\n",
    "\n",
    "# Z = z-score\n",
    "# X = data point \n",
    "# U = population mean \n",
    "# S =population standard deviation\n",
    "\n",
    "X=75\n",
    "U=70\n",
    "S=5\n",
    "\n",
    "\n",
    "Z=(X-U)/S\n",
    "print('Z score is :',Z)"
   ]
  },
  {
   "cell_type": "code",
   "execution_count": null,
   "id": "e85677cc-0ed0-4a8c-a3ef-b55c218b8e51",
   "metadata": {},
   "outputs": [],
   "source": [
    "The calculated z-score is 1. This means that the data point with a value of 75 is 1 standard deviation above the population mean of 70. \n",
    "The positive sign indicates that the data point is higher than the mean. Since the z-score is 1, it tells us that the data point is one\n",
    "standard deviation above the mean in the population data."
   ]
  },
  {
   "cell_type": "code",
   "execution_count": null,
   "id": "7083ecb3-ce26-4698-ac05-56000a673f8c",
   "metadata": {},
   "outputs": [],
   "source": [
    "Q10. In a study of the effectiveness of a new weight loss drug, a sample of 50 participants lost an average\n",
    "of 6 pounds with a standard deviation of 2.5 pounds. Conduct a hypothesis test to determine if the drug is\n",
    "significantly effective at a 95% confidence level using a t-test."
   ]
  },
  {
   "cell_type": "code",
   "execution_count": 3,
   "id": "83ad63a6-2eff-4035-9cb3-0056382040e4",
   "metadata": {},
   "outputs": [],
   "source": [
    "from scipy import stats"
   ]
  },
  {
   "cell_type": "code",
   "execution_count": 29,
   "id": "4858d887-b622-4796-8162-80683f9e2440",
   "metadata": {},
   "outputs": [
    {
     "name": "stdout",
     "output_type": "stream",
     "text": [
      "We failed to reject null hypothesis and the weight los drug is not significantly effective.\n"
     ]
    }
   ],
   "source": [
    "\n",
    "# Null Hypothesis (H0): The weight loss drug is not significantly effective. The population mean weight loss (μ) is equal to or greater than the observed sample mean weight loss.\n",
    "# H0: μ ≥ 6\n",
    "\n",
    "# Alternative Hypothesis (Ha): The weight loss drug is significantly effective. The population mean weight loss (μ) is less than 6 pounds.\n",
    "# Ha: μ < 6\n",
    "\n",
    "#given data \n",
    "sample_size=50\n",
    "sample_mean=6\n",
    "sample_std=2.5\n",
    "alpha=0.05\n",
    "\n",
    "df=49 # degree of freedom = n-1 (n=sample size=50)\n",
    "\n",
    "# critical t value \n",
    "\n",
    "t_value=stats.t.ppf(alpha,df)\n",
    "\n",
    "\n",
    "# X̄ = Sample mean (6 pounds)\n",
    "# μ = Population mean under the null hypothesis (6 pounds)\n",
    "# s = Sample standard deviation (2.5 pounds)\n",
    "# n = Sample size (50 participants)\n",
    "X̄ =6\n",
    "μ=6\n",
    "s=2.\n",
    "\n",
    "# calculated t value \n",
    "\n",
    "t_statistics=(X̄ - μ)/(s/math.sqrt(n)) # 0 \n",
    "if t_value > t_statistics :\n",
    "    print(\"we reject the null hypothesis and The weight loss drug is significantly effective \")\n",
    "else:\n",
    "    print(\"We failed to reject null hypothesis and the weight los drug is not significantly effective.\")"
   ]
  },
  {
   "cell_type": "code",
   "execution_count": null,
   "id": "65f1879d-fd68-45ed-9467-fe3aea54cf19",
   "metadata": {},
   "outputs": [],
   "source": [
    "Q11. In a survey of 500 people, 65% reported being satisfied with their current job. Calculate the 95%\n",
    "confidence interval for the true proportion of people who are satisfied with their job."
   ]
  },
  {
   "cell_type": "code",
   "execution_count": 17,
   "id": "744d9f4b-2b9c-4d0b-9a16-98a360acbdc1",
   "metadata": {},
   "outputs": [
    {
     "name": "stdout",
     "output_type": "stream",
     "text": [
      "confidence interval is from 0.608191771144905 to  0.6918082288550951 \n"
     ]
    }
   ],
   "source": [
    "n=500 # sample size\n",
    "alpha=0.05\n",
    "\n",
    "z=1.96 #(for confidence interval 0.95)\n",
    "p=0.65 # sample proportion (mean)\n",
    "\n",
    "C_I_up= p+(1.96*math.sqrt((p*(1-p))/n))\n",
    "C_I_lb= p-(1.96*math.sqrt((p*(1-p))/n))  \n",
    "\n",
    "print(f\"confidence interval is from {C_I_lb} to  {C_I_up} \")"
   ]
  },
  {
   "cell_type": "code",
   "execution_count": null,
   "id": "0d887928-0287-45c5-a9da-323c2e98a12f",
   "metadata": {},
   "outputs": [],
   "source": [
    "Q12. A researcher is testing the effectiveness of two different teaching methods on student performance.\n",
    "Sample A has a mean score of 85 with a standard deviation of 6, while sample B has a mean score of 82\n",
    "with a standard deviation of 5. Conduct a hypothesis test to determine if the two teaching methods have a\n",
    "significant difference in student performance using a t-test with a significance level of 0.01."
   ]
  },
  {
   "cell_type": "code",
   "execution_count": 36,
   "id": "975df37e-107a-4d3c-b366-9678baf9a85f",
   "metadata": {},
   "outputs": [
    {
     "name": "stdout",
     "output_type": "stream",
     "text": [
      "we failed to reject null hypothesis\n"
     ]
    }
   ],
   "source": [
    "# given data of sample A \n",
    "\n",
    "X̄A= 85 # sample mean of score \n",
    "sA = 6 # standard deviation\n",
    "\n",
    "# given data of sample B\n",
    "\n",
    "X̄B = 82 # sample mean\n",
    "sB = 5 # standard deviation\n",
    "\n",
    "\n",
    "# Assuming the sample sizes are:\n",
    "nA = 50 #(for example)\n",
    "nB = 60 #(for example)\n",
    "\n",
    "alpha=0.01\n",
    "\n",
    "df=nA+nB-2 # degree of freedom n-1 \n",
    "\n",
    "#critical t value\n",
    "\n",
    "t_value=stats.t.ppf(alpha,df)\n",
    "\n",
    "#calculaed t value\n",
    "\n",
    "t_statistics= (X̄A - X̄B) / math.sqrt(((sA**2 / nA) + ( sB**2/nB)))\n",
    "\n",
    "\n",
    "if t_value>t_statistics:\n",
    "    print(\"we reject null hypotesis\")\n",
    "else:\n",
    "    print(\"we failed to reject null hypothesis\")\n",
    "    "
   ]
  },
  {
   "cell_type": "code",
   "execution_count": 33,
   "id": "ab05d699-740e-468a-8c91-3a4168dfe388",
   "metadata": {},
   "outputs": [],
   "source": [
    "Q13. A population has a mean of 60 and a standard deviation of 8. A sample of 50 observations has a mean\n",
    "of 65. Calculate the 90% confidence interval for the true population mean."
   ]
  },
  {
   "cell_type": "code",
   "execution_count": 23,
   "id": "1e25b44e-aa6b-48af-8e30-e6b37b27dc2c",
   "metadata": {},
   "outputs": [
    {
     "name": "stdout",
     "output_type": "stream",
     "text": [
      "confidence interval is from 63.13906055411732 to  66.86093944588268 \n"
     ]
    }
   ],
   "source": [
    "mean=60 # population mean \n",
    "std=8 # standard deviation\n",
    "n=50 # sample size \n",
    "s_mean=65 # sample mean\n",
    "\n",
    "alpha=0.10 # significance level \n",
    "\n",
    "Z= stats.norm.ppf(1-alpha/2) # critical Z value \n",
    "\n",
    "C_I_up= s_mean+Z*(std/math.sqrt(n))\n",
    "C_I_lb= s_mean-Z*(std/math.sqrt(n))\n",
    "\n",
    "print(f\"confidence interval is from {C_I_lb} to  {C_I_up} \")"
   ]
  },
  {
   "cell_type": "code",
   "execution_count": null,
   "id": "53ba9b50-5c22-4530-ab5b-62fd97cd2be2",
   "metadata": {},
   "outputs": [],
   "source": [
    "Q14. In a study of the effects of caffeine on reaction time, a sample of 30 participants had an average\n",
    "reaction time of 0.25 seconds with a standard deviation of 0.05 seconds. Conduct a hypothesis test to\n",
    "determine if the caffeine has a significant effect on reaction time at a 90% confidence level using a t-test."
   ]
  },
  {
   "cell_type": "code",
   "execution_count": 30,
   "id": "0977e24f-84ae-40d1-a8cd-6bdc9fabb984",
   "metadata": {},
   "outputs": [
    {
     "name": "stdout",
     "output_type": "stream",
     "text": [
      "we failed to reject null hypothesis\n"
     ]
    }
   ],
   "source": [
    "#givrn data \n",
    "\n",
    "n = 30 # sample size\n",
    "m = 0.25 # avg time \n",
    "s = 0.05 # standard deviation \n",
    "μ = 0.25 #Population mean under the null hypothesis (0.25 seconds)\n",
    "alpha=0.10\n",
    "\n",
    "# degree of freedom n -1 \n",
    "\n",
    "df=29\n",
    "\n",
    "#critical t value \n",
    "\n",
    "t_value=stats.t.ppf(alpha,df)\n",
    "\n",
    "#calculated t value \n",
    "\n",
    "t_statistics=(m-μ)/(s/math.sqrt(n))\n",
    "\n",
    "if t_value>t_statistics:\n",
    "    print(\"we reject null hypotesis\")\n",
    "else:\n",
    "    print(\"we failed to reject null hypothesis\")"
   ]
  },
  {
   "cell_type": "code",
   "execution_count": null,
   "id": "9baac5a5-d50a-42c8-a585-8236bf101323",
   "metadata": {},
   "outputs": [],
   "source": []
  }
 ],
 "metadata": {
  "kernelspec": {
   "display_name": "Python 3 (ipykernel)",
   "language": "python",
   "name": "python3"
  },
  "language_info": {
   "codemirror_mode": {
    "name": "ipython",
    "version": 3
   },
   "file_extension": ".py",
   "mimetype": "text/x-python",
   "name": "python",
   "nbconvert_exporter": "python",
   "pygments_lexer": "ipython3",
   "version": "3.10.8"
  }
 },
 "nbformat": 4,
 "nbformat_minor": 5
}
